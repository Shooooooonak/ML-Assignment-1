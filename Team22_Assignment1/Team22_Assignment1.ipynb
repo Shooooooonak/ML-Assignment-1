{
  "nbformat": 4,
  "nbformat_minor": 0,
  "metadata": {
    "colab": {
      "provenance": [],
      "gpuType": "T4"
    },
    "kernelspec": {
      "name": "python3",
      "display_name": "Python 3"
    },
    "language_info": {
      "name": "python"
    }
  },
  "cells": [
    {
      "cell_type": "markdown",
      "source": [
        "##**BITS F464 - Semester 1 - MACHINE LEARNING**\n",
        "--------------------------------------------------------------------------------\n",
        "\n",
        "**ASSIGNMENT 1 - LINEAR MODELS FOR REGRESSION AND CLASSIFICATION**\n",
        "--------------------------------------------------------------------------------\n",
        "***Team number:***\n",
        "\n",
        "---\n",
        "\n",
        "SHASHANK SAI ALLADI, RAGHAV SARDA, ANISH KARAR, RISHITH DAMANI, SHOUNAK ACHARYA\n",
        "\n",
        "---\n",
        "2021A7PS1507H, 2021A7PS2765H, 2021A3PS0970H, 2021A3PS2147H, 2021AAPS2120H\n"
      ],
      "metadata": {
        "id": "Vj_r89FzT41w"
      }
    },
    {
      "cell_type": "markdown",
      "source": [
        "This assignment aims to identify the differences between three sets of Machine Learning models."
      ],
      "metadata": {
        "id": "Z_duS0Zn17c3"
      }
    },
    {
      "cell_type": "markdown",
      "source": [
        "# **_1. Dataset Generation_**"
      ],
      "metadata": {
        "id": "yT-dTtra2h2n"
      }
    },
    {
      "cell_type": "markdown",
      "source": [],
      "metadata": {
        "id": "ttEo2c7TpxEg"
      }
    },
    {
      "cell_type": "markdown",
      "source": [
        "You are given a sample Diabetes dataset. Using this, please develop your own dataset consisting of 500 records. You can use the given code to generate your own dataset. Submit the generated dataset as a .csv file along with your python notebook."
      ],
      "metadata": {
        "id": "2UsOVUj22wrz"
      }
    },
    {
      "cell_type": "code",
      "source": [
        "%pip install sdv\n",
        "%pip install urllib3==1.25.4\n"
      ],
      "metadata": {
        "id": "N8uONwSjNSc-",
        "colab": {
          "base_uri": "https://localhost:8080/"
        },
        "outputId": "502d5b7d-3144-42fe-b11e-97c3334050a2"
      },
      "execution_count": 417,
      "outputs": [
        {
          "output_type": "stream",
          "name": "stdout",
          "text": [
            "Requirement already satisfied: sdv in /usr/local/lib/python3.10/dist-packages (1.4.0)\n",
            "Requirement already satisfied: boto3<2,>=1.15.0 in /usr/local/lib/python3.10/dist-packages (from sdv) (1.28.57)\n",
            "Requirement already satisfied: botocore<2,>=1.18 in /usr/local/lib/python3.10/dist-packages (from sdv) (1.31.57)\n",
            "Requirement already satisfied: cloudpickle<3.0,>=2.1.0 in /usr/local/lib/python3.10/dist-packages (from sdv) (2.2.1)\n",
            "Requirement already satisfied: Faker<15,>=10 in /usr/local/lib/python3.10/dist-packages (from sdv) (14.2.1)\n",
            "Requirement already satisfied: graphviz<1,>=0.13.2 in /usr/local/lib/python3.10/dist-packages (from sdv) (0.20.1)\n",
            "Requirement already satisfied: tqdm<5,>=4.15 in /usr/local/lib/python3.10/dist-packages (from sdv) (4.66.1)\n",
            "Requirement already satisfied: copulas<0.10,>=0.9.0 in /usr/local/lib/python3.10/dist-packages (from sdv) (0.9.1)\n",
            "Requirement already satisfied: ctgan<0.8,>=0.7.4 in /usr/local/lib/python3.10/dist-packages (from sdv) (0.7.4)\n",
            "Requirement already satisfied: deepecho<0.5,>=0.4.2 in /usr/local/lib/python3.10/dist-packages (from sdv) (0.4.2)\n",
            "Requirement already satisfied: rdt<2,>=1.7.0 in /usr/local/lib/python3.10/dist-packages (from sdv) (1.7.0)\n",
            "Requirement already satisfied: sdmetrics<0.12,>=0.11.0 in /usr/local/lib/python3.10/dist-packages (from sdv) (0.11.1)\n",
            "Requirement already satisfied: numpy<1.25.0,>=1.23.3 in /usr/local/lib/python3.10/dist-packages (from sdv) (1.23.5)\n",
            "Requirement already satisfied: pandas>=1.3.4 in /usr/local/lib/python3.10/dist-packages (from sdv) (1.5.3)\n",
            "Requirement already satisfied: jmespath<2.0.0,>=0.7.1 in /usr/local/lib/python3.10/dist-packages (from boto3<2,>=1.15.0->sdv) (1.0.1)\n",
            "Requirement already satisfied: s3transfer<0.8.0,>=0.7.0 in /usr/local/lib/python3.10/dist-packages (from boto3<2,>=1.15.0->sdv) (0.7.0)\n",
            "Requirement already satisfied: python-dateutil<3.0.0,>=2.1 in /usr/local/lib/python3.10/dist-packages (from botocore<2,>=1.18->sdv) (2.8.2)\n",
            "Requirement already satisfied: urllib3<1.27,>=1.25.4 in /usr/local/lib/python3.10/dist-packages (from botocore<2,>=1.18->sdv) (1.25.4)\n",
            "Requirement already satisfied: matplotlib<4,>=3.6.0 in /usr/local/lib/python3.10/dist-packages (from copulas<0.10,>=0.9.0->sdv) (3.7.1)\n",
            "Requirement already satisfied: scipy<2,>=1.9.2 in /usr/local/lib/python3.10/dist-packages (from copulas<0.10,>=0.9.0->sdv) (1.11.2)\n",
            "Requirement already satisfied: scikit-learn<2,>=1.1.3 in /usr/local/lib/python3.10/dist-packages (from ctgan<0.8,>=0.7.4->sdv) (1.2.2)\n",
            "Requirement already satisfied: torch>=1.11.0 in /usr/local/lib/python3.10/dist-packages (from ctgan<0.8,>=0.7.4->sdv) (2.0.1+cu118)\n",
            "Requirement already satisfied: pytz>=2020.1 in /usr/local/lib/python3.10/dist-packages (from pandas>=1.3.4->sdv) (2023.3.post1)\n",
            "Requirement already satisfied: psutil<6,>=5.7 in /usr/local/lib/python3.10/dist-packages (from rdt<2,>=1.7.0->sdv) (5.9.5)\n",
            "Requirement already satisfied: plotly<6,>=5.10.0 in /usr/local/lib/python3.10/dist-packages (from sdmetrics<0.12,>=0.11.0->sdv) (5.15.0)\n",
            "Requirement already satisfied: contourpy>=1.0.1 in /usr/local/lib/python3.10/dist-packages (from matplotlib<4,>=3.6.0->copulas<0.10,>=0.9.0->sdv) (1.1.0)\n",
            "Requirement already satisfied: cycler>=0.10 in /usr/local/lib/python3.10/dist-packages (from matplotlib<4,>=3.6.0->copulas<0.10,>=0.9.0->sdv) (0.11.0)\n",
            "Requirement already satisfied: fonttools>=4.22.0 in /usr/local/lib/python3.10/dist-packages (from matplotlib<4,>=3.6.0->copulas<0.10,>=0.9.0->sdv) (4.42.1)\n",
            "Requirement already satisfied: kiwisolver>=1.0.1 in /usr/local/lib/python3.10/dist-packages (from matplotlib<4,>=3.6.0->copulas<0.10,>=0.9.0->sdv) (1.4.5)\n",
            "Requirement already satisfied: packaging>=20.0 in /usr/local/lib/python3.10/dist-packages (from matplotlib<4,>=3.6.0->copulas<0.10,>=0.9.0->sdv) (23.1)\n",
            "Requirement already satisfied: pillow>=6.2.0 in /usr/local/lib/python3.10/dist-packages (from matplotlib<4,>=3.6.0->copulas<0.10,>=0.9.0->sdv) (9.4.0)\n",
            "Requirement already satisfied: pyparsing>=2.3.1 in /usr/local/lib/python3.10/dist-packages (from matplotlib<4,>=3.6.0->copulas<0.10,>=0.9.0->sdv) (3.1.1)\n",
            "Requirement already satisfied: tenacity>=6.2.0 in /usr/local/lib/python3.10/dist-packages (from plotly<6,>=5.10.0->sdmetrics<0.12,>=0.11.0->sdv) (8.2.3)\n",
            "Requirement already satisfied: six>=1.5 in /usr/local/lib/python3.10/dist-packages (from python-dateutil<3.0.0,>=2.1->botocore<2,>=1.18->sdv) (1.16.0)\n",
            "Requirement already satisfied: joblib>=1.1.1 in /usr/local/lib/python3.10/dist-packages (from scikit-learn<2,>=1.1.3->ctgan<0.8,>=0.7.4->sdv) (1.3.2)\n",
            "Requirement already satisfied: threadpoolctl>=2.0.0 in /usr/local/lib/python3.10/dist-packages (from scikit-learn<2,>=1.1.3->ctgan<0.8,>=0.7.4->sdv) (3.2.0)\n",
            "Requirement already satisfied: filelock in /usr/local/lib/python3.10/dist-packages (from torch>=1.11.0->ctgan<0.8,>=0.7.4->sdv) (3.12.2)\n",
            "Requirement already satisfied: typing-extensions in /usr/local/lib/python3.10/dist-packages (from torch>=1.11.0->ctgan<0.8,>=0.7.4->sdv) (4.5.0)\n",
            "Requirement already satisfied: sympy in /usr/local/lib/python3.10/dist-packages (from torch>=1.11.0->ctgan<0.8,>=0.7.4->sdv) (1.12)\n",
            "Requirement already satisfied: networkx in /usr/local/lib/python3.10/dist-packages (from torch>=1.11.0->ctgan<0.8,>=0.7.4->sdv) (3.1)\n",
            "Requirement already satisfied: jinja2 in /usr/local/lib/python3.10/dist-packages (from torch>=1.11.0->ctgan<0.8,>=0.7.4->sdv) (3.1.2)\n",
            "Requirement already satisfied: triton==2.0.0 in /usr/local/lib/python3.10/dist-packages (from torch>=1.11.0->ctgan<0.8,>=0.7.4->sdv) (2.0.0)\n",
            "Requirement already satisfied: cmake in /usr/local/lib/python3.10/dist-packages (from triton==2.0.0->torch>=1.11.0->ctgan<0.8,>=0.7.4->sdv) (3.27.4.1)\n",
            "Requirement already satisfied: lit in /usr/local/lib/python3.10/dist-packages (from triton==2.0.0->torch>=1.11.0->ctgan<0.8,>=0.7.4->sdv) (16.0.6)\n",
            "Requirement already satisfied: MarkupSafe>=2.0 in /usr/local/lib/python3.10/dist-packages (from jinja2->torch>=1.11.0->ctgan<0.8,>=0.7.4->sdv) (2.1.3)\n",
            "Requirement already satisfied: mpmath>=0.19 in /usr/local/lib/python3.10/dist-packages (from sympy->torch>=1.11.0->ctgan<0.8,>=0.7.4->sdv) (1.3.0)\n",
            "Requirement already satisfied: urllib3==1.25.4 in /usr/local/lib/python3.10/dist-packages (1.25.4)\n"
          ]
        }
      ]
    },
    {
      "cell_type": "code",
      "source": [
        "# Importing the needed libraries\n",
        "import pandas as pd\n",
        "import numpy as np"
      ],
      "metadata": {
        "id": "i3DMyr2G83N2"
      },
      "execution_count": 418,
      "outputs": []
    },
    {
      "cell_type": "markdown",
      "source": [
        "Please upload the real dataset \"Diabetes.xls.csv\" (as a CSV file) locally onto this notebook before running the cell below"
      ],
      "metadata": {
        "id": "x9KIRfINiUDI"
      }
    },
    {
      "cell_type": "code",
      "source": [
        "# Reading the CSV file as a DataFrame\n",
        "real_data = pd.read_csv('/content/diabetes2 - Diabetes.xls.csv')\n",
        "\n",
        "# Displaying the first 5 rows of our DataFrame\n",
        "real_data.head()\n"
      ],
      "metadata": {
        "colab": {
          "base_uri": "https://localhost:8080/",
          "height": 206
        },
        "id": "0qhn_F4UJ-Dj",
        "outputId": "b3eacbc6-a93e-4ee4-ddfa-ad6b915ca673"
      },
      "execution_count": 419,
      "outputs": [
        {
          "output_type": "execute_result",
          "data": {
            "text/plain": [
              "   Pregnancies  Glucose  BloodPressure  SkinThickness  Insulin   BMI  \\\n",
              "0            6      148             72             35        0  33.6   \n",
              "1            1       85             66             29        0  26.6   \n",
              "2            8      183             64              0        0  23.3   \n",
              "3            1       89             66             23       94  28.1   \n",
              "4            0      137             40             35      168  43.1   \n",
              "\n",
              "   DiabetesPedigreeFunction  Age  Outcome  \n",
              "0                     0.627   50        1  \n",
              "1                     0.351   31        0  \n",
              "2                     0.672   32        1  \n",
              "3                     0.167   21        0  \n",
              "4                     2.288   33        1  "
            ],
            "text/html": [
              "\n",
              "  <div id=\"df-1a65e77d-66ac-4f63-9a45-5863d4976b05\" class=\"colab-df-container\">\n",
              "    <div>\n",
              "<style scoped>\n",
              "    .dataframe tbody tr th:only-of-type {\n",
              "        vertical-align: middle;\n",
              "    }\n",
              "\n",
              "    .dataframe tbody tr th {\n",
              "        vertical-align: top;\n",
              "    }\n",
              "\n",
              "    .dataframe thead th {\n",
              "        text-align: right;\n",
              "    }\n",
              "</style>\n",
              "<table border=\"1\" class=\"dataframe\">\n",
              "  <thead>\n",
              "    <tr style=\"text-align: right;\">\n",
              "      <th></th>\n",
              "      <th>Pregnancies</th>\n",
              "      <th>Glucose</th>\n",
              "      <th>BloodPressure</th>\n",
              "      <th>SkinThickness</th>\n",
              "      <th>Insulin</th>\n",
              "      <th>BMI</th>\n",
              "      <th>DiabetesPedigreeFunction</th>\n",
              "      <th>Age</th>\n",
              "      <th>Outcome</th>\n",
              "    </tr>\n",
              "  </thead>\n",
              "  <tbody>\n",
              "    <tr>\n",
              "      <th>0</th>\n",
              "      <td>6</td>\n",
              "      <td>148</td>\n",
              "      <td>72</td>\n",
              "      <td>35</td>\n",
              "      <td>0</td>\n",
              "      <td>33.6</td>\n",
              "      <td>0.627</td>\n",
              "      <td>50</td>\n",
              "      <td>1</td>\n",
              "    </tr>\n",
              "    <tr>\n",
              "      <th>1</th>\n",
              "      <td>1</td>\n",
              "      <td>85</td>\n",
              "      <td>66</td>\n",
              "      <td>29</td>\n",
              "      <td>0</td>\n",
              "      <td>26.6</td>\n",
              "      <td>0.351</td>\n",
              "      <td>31</td>\n",
              "      <td>0</td>\n",
              "    </tr>\n",
              "    <tr>\n",
              "      <th>2</th>\n",
              "      <td>8</td>\n",
              "      <td>183</td>\n",
              "      <td>64</td>\n",
              "      <td>0</td>\n",
              "      <td>0</td>\n",
              "      <td>23.3</td>\n",
              "      <td>0.672</td>\n",
              "      <td>32</td>\n",
              "      <td>1</td>\n",
              "    </tr>\n",
              "    <tr>\n",
              "      <th>3</th>\n",
              "      <td>1</td>\n",
              "      <td>89</td>\n",
              "      <td>66</td>\n",
              "      <td>23</td>\n",
              "      <td>94</td>\n",
              "      <td>28.1</td>\n",
              "      <td>0.167</td>\n",
              "      <td>21</td>\n",
              "      <td>0</td>\n",
              "    </tr>\n",
              "    <tr>\n",
              "      <th>4</th>\n",
              "      <td>0</td>\n",
              "      <td>137</td>\n",
              "      <td>40</td>\n",
              "      <td>35</td>\n",
              "      <td>168</td>\n",
              "      <td>43.1</td>\n",
              "      <td>2.288</td>\n",
              "      <td>33</td>\n",
              "      <td>1</td>\n",
              "    </tr>\n",
              "  </tbody>\n",
              "</table>\n",
              "</div>\n",
              "    <div class=\"colab-df-buttons\">\n",
              "\n",
              "  <div class=\"colab-df-container\">\n",
              "    <button class=\"colab-df-convert\" onclick=\"convertToInteractive('df-1a65e77d-66ac-4f63-9a45-5863d4976b05')\"\n",
              "            title=\"Convert this dataframe to an interactive table.\"\n",
              "            style=\"display:none;\">\n",
              "\n",
              "  <svg xmlns=\"http://www.w3.org/2000/svg\" height=\"24px\" viewBox=\"0 -960 960 960\">\n",
              "    <path d=\"M120-120v-720h720v720H120Zm60-500h600v-160H180v160Zm220 220h160v-160H400v160Zm0 220h160v-160H400v160ZM180-400h160v-160H180v160Zm440 0h160v-160H620v160ZM180-180h160v-160H180v160Zm440 0h160v-160H620v160Z\"/>\n",
              "  </svg>\n",
              "    </button>\n",
              "\n",
              "  <style>\n",
              "    .colab-df-container {\n",
              "      display:flex;\n",
              "      gap: 12px;\n",
              "    }\n",
              "\n",
              "    .colab-df-convert {\n",
              "      background-color: #E8F0FE;\n",
              "      border: none;\n",
              "      border-radius: 50%;\n",
              "      cursor: pointer;\n",
              "      display: none;\n",
              "      fill: #1967D2;\n",
              "      height: 32px;\n",
              "      padding: 0 0 0 0;\n",
              "      width: 32px;\n",
              "    }\n",
              "\n",
              "    .colab-df-convert:hover {\n",
              "      background-color: #E2EBFA;\n",
              "      box-shadow: 0px 1px 2px rgba(60, 64, 67, 0.3), 0px 1px 3px 1px rgba(60, 64, 67, 0.15);\n",
              "      fill: #174EA6;\n",
              "    }\n",
              "\n",
              "    .colab-df-buttons div {\n",
              "      margin-bottom: 4px;\n",
              "    }\n",
              "\n",
              "    [theme=dark] .colab-df-convert {\n",
              "      background-color: #3B4455;\n",
              "      fill: #D2E3FC;\n",
              "    }\n",
              "\n",
              "    [theme=dark] .colab-df-convert:hover {\n",
              "      background-color: #434B5C;\n",
              "      box-shadow: 0px 1px 3px 1px rgba(0, 0, 0, 0.15);\n",
              "      filter: drop-shadow(0px 1px 2px rgba(0, 0, 0, 0.3));\n",
              "      fill: #FFFFFF;\n",
              "    }\n",
              "  </style>\n",
              "\n",
              "    <script>\n",
              "      const buttonEl =\n",
              "        document.querySelector('#df-1a65e77d-66ac-4f63-9a45-5863d4976b05 button.colab-df-convert');\n",
              "      buttonEl.style.display =\n",
              "        google.colab.kernel.accessAllowed ? 'block' : 'none';\n",
              "\n",
              "      async function convertToInteractive(key) {\n",
              "        const element = document.querySelector('#df-1a65e77d-66ac-4f63-9a45-5863d4976b05');\n",
              "        const dataTable =\n",
              "          await google.colab.kernel.invokeFunction('convertToInteractive',\n",
              "                                                    [key], {});\n",
              "        if (!dataTable) return;\n",
              "\n",
              "        const docLinkHtml = 'Like what you see? Visit the ' +\n",
              "          '<a target=\"_blank\" href=https://colab.research.google.com/notebooks/data_table.ipynb>data table notebook</a>'\n",
              "          + ' to learn more about interactive tables.';\n",
              "        element.innerHTML = '';\n",
              "        dataTable['output_type'] = 'display_data';\n",
              "        await google.colab.output.renderOutput(dataTable, element);\n",
              "        const docLink = document.createElement('div');\n",
              "        docLink.innerHTML = docLinkHtml;\n",
              "        element.appendChild(docLink);\n",
              "      }\n",
              "    </script>\n",
              "  </div>\n",
              "\n",
              "\n",
              "<div id=\"df-b99dce7f-cdf3-4fd1-b139-f3a38e240c58\">\n",
              "  <button class=\"colab-df-quickchart\" onclick=\"quickchart('df-b99dce7f-cdf3-4fd1-b139-f3a38e240c58')\"\n",
              "            title=\"Suggest charts.\"\n",
              "            style=\"display:none;\">\n",
              "\n",
              "<svg xmlns=\"http://www.w3.org/2000/svg\" height=\"24px\"viewBox=\"0 0 24 24\"\n",
              "     width=\"24px\">\n",
              "    <g>\n",
              "        <path d=\"M19 3H5c-1.1 0-2 .9-2 2v14c0 1.1.9 2 2 2h14c1.1 0 2-.9 2-2V5c0-1.1-.9-2-2-2zM9 17H7v-7h2v7zm4 0h-2V7h2v10zm4 0h-2v-4h2v4z\"/>\n",
              "    </g>\n",
              "</svg>\n",
              "  </button>\n",
              "\n",
              "<style>\n",
              "  .colab-df-quickchart {\n",
              "      --bg-color: #E8F0FE;\n",
              "      --fill-color: #1967D2;\n",
              "      --hover-bg-color: #E2EBFA;\n",
              "      --hover-fill-color: #174EA6;\n",
              "      --disabled-fill-color: #AAA;\n",
              "      --disabled-bg-color: #DDD;\n",
              "  }\n",
              "\n",
              "  [theme=dark] .colab-df-quickchart {\n",
              "      --bg-color: #3B4455;\n",
              "      --fill-color: #D2E3FC;\n",
              "      --hover-bg-color: #434B5C;\n",
              "      --hover-fill-color: #FFFFFF;\n",
              "      --disabled-bg-color: #3B4455;\n",
              "      --disabled-fill-color: #666;\n",
              "  }\n",
              "\n",
              "  .colab-df-quickchart {\n",
              "    background-color: var(--bg-color);\n",
              "    border: none;\n",
              "    border-radius: 50%;\n",
              "    cursor: pointer;\n",
              "    display: none;\n",
              "    fill: var(--fill-color);\n",
              "    height: 32px;\n",
              "    padding: 0;\n",
              "    width: 32px;\n",
              "  }\n",
              "\n",
              "  .colab-df-quickchart:hover {\n",
              "    background-color: var(--hover-bg-color);\n",
              "    box-shadow: 0 1px 2px rgba(60, 64, 67, 0.3), 0 1px 3px 1px rgba(60, 64, 67, 0.15);\n",
              "    fill: var(--button-hover-fill-color);\n",
              "  }\n",
              "\n",
              "  .colab-df-quickchart-complete:disabled,\n",
              "  .colab-df-quickchart-complete:disabled:hover {\n",
              "    background-color: var(--disabled-bg-color);\n",
              "    fill: var(--disabled-fill-color);\n",
              "    box-shadow: none;\n",
              "  }\n",
              "\n",
              "  .colab-df-spinner {\n",
              "    border: 2px solid var(--fill-color);\n",
              "    border-color: transparent;\n",
              "    border-bottom-color: var(--fill-color);\n",
              "    animation:\n",
              "      spin 1s steps(1) infinite;\n",
              "  }\n",
              "\n",
              "  @keyframes spin {\n",
              "    0% {\n",
              "      border-color: transparent;\n",
              "      border-bottom-color: var(--fill-color);\n",
              "      border-left-color: var(--fill-color);\n",
              "    }\n",
              "    20% {\n",
              "      border-color: transparent;\n",
              "      border-left-color: var(--fill-color);\n",
              "      border-top-color: var(--fill-color);\n",
              "    }\n",
              "    30% {\n",
              "      border-color: transparent;\n",
              "      border-left-color: var(--fill-color);\n",
              "      border-top-color: var(--fill-color);\n",
              "      border-right-color: var(--fill-color);\n",
              "    }\n",
              "    40% {\n",
              "      border-color: transparent;\n",
              "      border-right-color: var(--fill-color);\n",
              "      border-top-color: var(--fill-color);\n",
              "    }\n",
              "    60% {\n",
              "      border-color: transparent;\n",
              "      border-right-color: var(--fill-color);\n",
              "    }\n",
              "    80% {\n",
              "      border-color: transparent;\n",
              "      border-right-color: var(--fill-color);\n",
              "      border-bottom-color: var(--fill-color);\n",
              "    }\n",
              "    90% {\n",
              "      border-color: transparent;\n",
              "      border-bottom-color: var(--fill-color);\n",
              "    }\n",
              "  }\n",
              "</style>\n",
              "\n",
              "  <script>\n",
              "    async function quickchart(key) {\n",
              "      const quickchartButtonEl =\n",
              "        document.querySelector('#' + key + ' button');\n",
              "      quickchartButtonEl.disabled = true;  // To prevent multiple clicks.\n",
              "      quickchartButtonEl.classList.add('colab-df-spinner');\n",
              "      try {\n",
              "        const charts = await google.colab.kernel.invokeFunction(\n",
              "            'suggestCharts', [key], {});\n",
              "      } catch (error) {\n",
              "        console.error('Error during call to suggestCharts:', error);\n",
              "      }\n",
              "      quickchartButtonEl.classList.remove('colab-df-spinner');\n",
              "      quickchartButtonEl.classList.add('colab-df-quickchart-complete');\n",
              "    }\n",
              "    (() => {\n",
              "      let quickchartButtonEl =\n",
              "        document.querySelector('#df-b99dce7f-cdf3-4fd1-b139-f3a38e240c58 button');\n",
              "      quickchartButtonEl.style.display =\n",
              "        google.colab.kernel.accessAllowed ? 'block' : 'none';\n",
              "    })();\n",
              "  </script>\n",
              "</div>\n",
              "    </div>\n",
              "  </div>\n"
            ]
          },
          "metadata": {},
          "execution_count": 419
        }
      ]
    },
    {
      "cell_type": "code",
      "source": [
        "# Importing the required library and modules\n",
        "from sdv.metadata import SingleTableMetadata\n",
        "\n",
        "# Creating a SingleTableMetadata instance\n",
        "metadata = SingleTableMetadata()\n"
      ],
      "metadata": {
        "id": "UewfM5xY_dAy"
      },
      "execution_count": 420,
      "outputs": []
    },
    {
      "cell_type": "code",
      "source": [
        "# Detecting the metadata from real_data DataFrame\n",
        "metadata.detect_from_dataframe(data=real_data)\n"
      ],
      "metadata": {
        "id": "oU060WOi9vEX"
      },
      "execution_count": 421,
      "outputs": []
    },
    {
      "cell_type": "code",
      "source": [
        "# Importing the required library and modules\n",
        "from sdv.lite import SingleTablePreset\n",
        "\n",
        "# Creating a SingleTablePreset synthesizer instance called 'FAST_ML'\n",
        "synthesizer = SingleTablePreset(metadata, name='FAST_ML')\n"
      ],
      "metadata": {
        "id": "Y7-BuQT1_iSr"
      },
      "execution_count": 422,
      "outputs": []
    },
    {
      "cell_type": "markdown",
      "source": [
        "If you see an error on the cell below, restart run time and run all cells"
      ],
      "metadata": {
        "id": "t_B2kHQ_cKN_"
      }
    },
    {
      "cell_type": "code",
      "source": [
        "# Fitting the synthesizer model using the real data\n",
        "synthesizer.fit(data=real_data)\n"
      ],
      "metadata": {
        "id": "OiECiwYq_xmg"
      },
      "execution_count": 423,
      "outputs": []
    },
    {
      "cell_type": "code",
      "source": [
        "# Generating the synthetic data with 500 rows\n",
        "synth_data = synthesizer.sample(num_rows=500)\n",
        "\n",
        "# Displaying the first 5 rows of our synthetic data\n",
        "synth_data.head()\n"
      ],
      "metadata": {
        "id": "f51nnLs_AUHg",
        "colab": {
          "base_uri": "https://localhost:8080/",
          "height": 206
        },
        "outputId": "0943d676-2507-478b-f7a8-e3cee8d37778"
      },
      "execution_count": 424,
      "outputs": [
        {
          "output_type": "execute_result",
          "data": {
            "text/plain": [
              "   Pregnancies  Glucose  BloodPressure  SkinThickness  Insulin        BMI  \\\n",
              "0            7      149             96             19       10  38.387409   \n",
              "1            0      151             44              6      105  26.125923   \n",
              "2            3      169             57             24      240  33.224573   \n",
              "3            4       86             61             35        0  32.918264   \n",
              "4            6       75             62             31       77  37.453830   \n",
              "\n",
              "   DiabetesPedigreeFunction  Age  Outcome  \n",
              "0                  0.561331   40        1  \n",
              "1                  0.463959   27        1  \n",
              "2                  0.541364   36        0  \n",
              "3                  0.526311   39        0  \n",
              "4                  0.178734   21        0  "
            ],
            "text/html": [
              "\n",
              "  <div id=\"df-7e1fe72d-3ed2-4a4c-bedd-b65ad04e521d\" class=\"colab-df-container\">\n",
              "    <div>\n",
              "<style scoped>\n",
              "    .dataframe tbody tr th:only-of-type {\n",
              "        vertical-align: middle;\n",
              "    }\n",
              "\n",
              "    .dataframe tbody tr th {\n",
              "        vertical-align: top;\n",
              "    }\n",
              "\n",
              "    .dataframe thead th {\n",
              "        text-align: right;\n",
              "    }\n",
              "</style>\n",
              "<table border=\"1\" class=\"dataframe\">\n",
              "  <thead>\n",
              "    <tr style=\"text-align: right;\">\n",
              "      <th></th>\n",
              "      <th>Pregnancies</th>\n",
              "      <th>Glucose</th>\n",
              "      <th>BloodPressure</th>\n",
              "      <th>SkinThickness</th>\n",
              "      <th>Insulin</th>\n",
              "      <th>BMI</th>\n",
              "      <th>DiabetesPedigreeFunction</th>\n",
              "      <th>Age</th>\n",
              "      <th>Outcome</th>\n",
              "    </tr>\n",
              "  </thead>\n",
              "  <tbody>\n",
              "    <tr>\n",
              "      <th>0</th>\n",
              "      <td>7</td>\n",
              "      <td>149</td>\n",
              "      <td>96</td>\n",
              "      <td>19</td>\n",
              "      <td>10</td>\n",
              "      <td>38.387409</td>\n",
              "      <td>0.561331</td>\n",
              "      <td>40</td>\n",
              "      <td>1</td>\n",
              "    </tr>\n",
              "    <tr>\n",
              "      <th>1</th>\n",
              "      <td>0</td>\n",
              "      <td>151</td>\n",
              "      <td>44</td>\n",
              "      <td>6</td>\n",
              "      <td>105</td>\n",
              "      <td>26.125923</td>\n",
              "      <td>0.463959</td>\n",
              "      <td>27</td>\n",
              "      <td>1</td>\n",
              "    </tr>\n",
              "    <tr>\n",
              "      <th>2</th>\n",
              "      <td>3</td>\n",
              "      <td>169</td>\n",
              "      <td>57</td>\n",
              "      <td>24</td>\n",
              "      <td>240</td>\n",
              "      <td>33.224573</td>\n",
              "      <td>0.541364</td>\n",
              "      <td>36</td>\n",
              "      <td>0</td>\n",
              "    </tr>\n",
              "    <tr>\n",
              "      <th>3</th>\n",
              "      <td>4</td>\n",
              "      <td>86</td>\n",
              "      <td>61</td>\n",
              "      <td>35</td>\n",
              "      <td>0</td>\n",
              "      <td>32.918264</td>\n",
              "      <td>0.526311</td>\n",
              "      <td>39</td>\n",
              "      <td>0</td>\n",
              "    </tr>\n",
              "    <tr>\n",
              "      <th>4</th>\n",
              "      <td>6</td>\n",
              "      <td>75</td>\n",
              "      <td>62</td>\n",
              "      <td>31</td>\n",
              "      <td>77</td>\n",
              "      <td>37.453830</td>\n",
              "      <td>0.178734</td>\n",
              "      <td>21</td>\n",
              "      <td>0</td>\n",
              "    </tr>\n",
              "  </tbody>\n",
              "</table>\n",
              "</div>\n",
              "    <div class=\"colab-df-buttons\">\n",
              "\n",
              "  <div class=\"colab-df-container\">\n",
              "    <button class=\"colab-df-convert\" onclick=\"convertToInteractive('df-7e1fe72d-3ed2-4a4c-bedd-b65ad04e521d')\"\n",
              "            title=\"Convert this dataframe to an interactive table.\"\n",
              "            style=\"display:none;\">\n",
              "\n",
              "  <svg xmlns=\"http://www.w3.org/2000/svg\" height=\"24px\" viewBox=\"0 -960 960 960\">\n",
              "    <path d=\"M120-120v-720h720v720H120Zm60-500h600v-160H180v160Zm220 220h160v-160H400v160Zm0 220h160v-160H400v160ZM180-400h160v-160H180v160Zm440 0h160v-160H620v160ZM180-180h160v-160H180v160Zm440 0h160v-160H620v160Z\"/>\n",
              "  </svg>\n",
              "    </button>\n",
              "\n",
              "  <style>\n",
              "    .colab-df-container {\n",
              "      display:flex;\n",
              "      gap: 12px;\n",
              "    }\n",
              "\n",
              "    .colab-df-convert {\n",
              "      background-color: #E8F0FE;\n",
              "      border: none;\n",
              "      border-radius: 50%;\n",
              "      cursor: pointer;\n",
              "      display: none;\n",
              "      fill: #1967D2;\n",
              "      height: 32px;\n",
              "      padding: 0 0 0 0;\n",
              "      width: 32px;\n",
              "    }\n",
              "\n",
              "    .colab-df-convert:hover {\n",
              "      background-color: #E2EBFA;\n",
              "      box-shadow: 0px 1px 2px rgba(60, 64, 67, 0.3), 0px 1px 3px 1px rgba(60, 64, 67, 0.15);\n",
              "      fill: #174EA6;\n",
              "    }\n",
              "\n",
              "    .colab-df-buttons div {\n",
              "      margin-bottom: 4px;\n",
              "    }\n",
              "\n",
              "    [theme=dark] .colab-df-convert {\n",
              "      background-color: #3B4455;\n",
              "      fill: #D2E3FC;\n",
              "    }\n",
              "\n",
              "    [theme=dark] .colab-df-convert:hover {\n",
              "      background-color: #434B5C;\n",
              "      box-shadow: 0px 1px 3px 1px rgba(0, 0, 0, 0.15);\n",
              "      filter: drop-shadow(0px 1px 2px rgba(0, 0, 0, 0.3));\n",
              "      fill: #FFFFFF;\n",
              "    }\n",
              "  </style>\n",
              "\n",
              "    <script>\n",
              "      const buttonEl =\n",
              "        document.querySelector('#df-7e1fe72d-3ed2-4a4c-bedd-b65ad04e521d button.colab-df-convert');\n",
              "      buttonEl.style.display =\n",
              "        google.colab.kernel.accessAllowed ? 'block' : 'none';\n",
              "\n",
              "      async function convertToInteractive(key) {\n",
              "        const element = document.querySelector('#df-7e1fe72d-3ed2-4a4c-bedd-b65ad04e521d');\n",
              "        const dataTable =\n",
              "          await google.colab.kernel.invokeFunction('convertToInteractive',\n",
              "                                                    [key], {});\n",
              "        if (!dataTable) return;\n",
              "\n",
              "        const docLinkHtml = 'Like what you see? Visit the ' +\n",
              "          '<a target=\"_blank\" href=https://colab.research.google.com/notebooks/data_table.ipynb>data table notebook</a>'\n",
              "          + ' to learn more about interactive tables.';\n",
              "        element.innerHTML = '';\n",
              "        dataTable['output_type'] = 'display_data';\n",
              "        await google.colab.output.renderOutput(dataTable, element);\n",
              "        const docLink = document.createElement('div');\n",
              "        docLink.innerHTML = docLinkHtml;\n",
              "        element.appendChild(docLink);\n",
              "      }\n",
              "    </script>\n",
              "  </div>\n",
              "\n",
              "\n",
              "<div id=\"df-fef46ca5-ebdf-47b1-95cc-7c913270329f\">\n",
              "  <button class=\"colab-df-quickchart\" onclick=\"quickchart('df-fef46ca5-ebdf-47b1-95cc-7c913270329f')\"\n",
              "            title=\"Suggest charts.\"\n",
              "            style=\"display:none;\">\n",
              "\n",
              "<svg xmlns=\"http://www.w3.org/2000/svg\" height=\"24px\"viewBox=\"0 0 24 24\"\n",
              "     width=\"24px\">\n",
              "    <g>\n",
              "        <path d=\"M19 3H5c-1.1 0-2 .9-2 2v14c0 1.1.9 2 2 2h14c1.1 0 2-.9 2-2V5c0-1.1-.9-2-2-2zM9 17H7v-7h2v7zm4 0h-2V7h2v10zm4 0h-2v-4h2v4z\"/>\n",
              "    </g>\n",
              "</svg>\n",
              "  </button>\n",
              "\n",
              "<style>\n",
              "  .colab-df-quickchart {\n",
              "      --bg-color: #E8F0FE;\n",
              "      --fill-color: #1967D2;\n",
              "      --hover-bg-color: #E2EBFA;\n",
              "      --hover-fill-color: #174EA6;\n",
              "      --disabled-fill-color: #AAA;\n",
              "      --disabled-bg-color: #DDD;\n",
              "  }\n",
              "\n",
              "  [theme=dark] .colab-df-quickchart {\n",
              "      --bg-color: #3B4455;\n",
              "      --fill-color: #D2E3FC;\n",
              "      --hover-bg-color: #434B5C;\n",
              "      --hover-fill-color: #FFFFFF;\n",
              "      --disabled-bg-color: #3B4455;\n",
              "      --disabled-fill-color: #666;\n",
              "  }\n",
              "\n",
              "  .colab-df-quickchart {\n",
              "    background-color: var(--bg-color);\n",
              "    border: none;\n",
              "    border-radius: 50%;\n",
              "    cursor: pointer;\n",
              "    display: none;\n",
              "    fill: var(--fill-color);\n",
              "    height: 32px;\n",
              "    padding: 0;\n",
              "    width: 32px;\n",
              "  }\n",
              "\n",
              "  .colab-df-quickchart:hover {\n",
              "    background-color: var(--hover-bg-color);\n",
              "    box-shadow: 0 1px 2px rgba(60, 64, 67, 0.3), 0 1px 3px 1px rgba(60, 64, 67, 0.15);\n",
              "    fill: var(--button-hover-fill-color);\n",
              "  }\n",
              "\n",
              "  .colab-df-quickchart-complete:disabled,\n",
              "  .colab-df-quickchart-complete:disabled:hover {\n",
              "    background-color: var(--disabled-bg-color);\n",
              "    fill: var(--disabled-fill-color);\n",
              "    box-shadow: none;\n",
              "  }\n",
              "\n",
              "  .colab-df-spinner {\n",
              "    border: 2px solid var(--fill-color);\n",
              "    border-color: transparent;\n",
              "    border-bottom-color: var(--fill-color);\n",
              "    animation:\n",
              "      spin 1s steps(1) infinite;\n",
              "  }\n",
              "\n",
              "  @keyframes spin {\n",
              "    0% {\n",
              "      border-color: transparent;\n",
              "      border-bottom-color: var(--fill-color);\n",
              "      border-left-color: var(--fill-color);\n",
              "    }\n",
              "    20% {\n",
              "      border-color: transparent;\n",
              "      border-left-color: var(--fill-color);\n",
              "      border-top-color: var(--fill-color);\n",
              "    }\n",
              "    30% {\n",
              "      border-color: transparent;\n",
              "      border-left-color: var(--fill-color);\n",
              "      border-top-color: var(--fill-color);\n",
              "      border-right-color: var(--fill-color);\n",
              "    }\n",
              "    40% {\n",
              "      border-color: transparent;\n",
              "      border-right-color: var(--fill-color);\n",
              "      border-top-color: var(--fill-color);\n",
              "    }\n",
              "    60% {\n",
              "      border-color: transparent;\n",
              "      border-right-color: var(--fill-color);\n",
              "    }\n",
              "    80% {\n",
              "      border-color: transparent;\n",
              "      border-right-color: var(--fill-color);\n",
              "      border-bottom-color: var(--fill-color);\n",
              "    }\n",
              "    90% {\n",
              "      border-color: transparent;\n",
              "      border-bottom-color: var(--fill-color);\n",
              "    }\n",
              "  }\n",
              "</style>\n",
              "\n",
              "  <script>\n",
              "    async function quickchart(key) {\n",
              "      const quickchartButtonEl =\n",
              "        document.querySelector('#' + key + ' button');\n",
              "      quickchartButtonEl.disabled = true;  // To prevent multiple clicks.\n",
              "      quickchartButtonEl.classList.add('colab-df-spinner');\n",
              "      try {\n",
              "        const charts = await google.colab.kernel.invokeFunction(\n",
              "            'suggestCharts', [key], {});\n",
              "      } catch (error) {\n",
              "        console.error('Error during call to suggestCharts:', error);\n",
              "      }\n",
              "      quickchartButtonEl.classList.remove('colab-df-spinner');\n",
              "      quickchartButtonEl.classList.add('colab-df-quickchart-complete');\n",
              "    }\n",
              "    (() => {\n",
              "      let quickchartButtonEl =\n",
              "        document.querySelector('#df-fef46ca5-ebdf-47b1-95cc-7c913270329f button');\n",
              "      quickchartButtonEl.style.display =\n",
              "        google.colab.kernel.accessAllowed ? 'block' : 'none';\n",
              "    })();\n",
              "  </script>\n",
              "</div>\n",
              "    </div>\n",
              "  </div>\n"
            ]
          },
          "metadata": {},
          "execution_count": 424
        }
      ]
    },
    {
      "cell_type": "code",
      "source": [
        "# Download the synthetic dataset here\n",
        "synth_data.to_csv('GeneratedDataSet.csv')"
      ],
      "metadata": {
        "id": "VFRNkIxlSgf9"
      },
      "execution_count": 540,
      "outputs": []
    },
    {
      "cell_type": "markdown",
      "source": [
        "# ***2. Preprocess and perform exploratory data analysis of the dataset obtained***"
      ],
      "metadata": {
        "id": "rDu7bwbNRhaK"
      }
    },
    {
      "cell_type": "code",
      "source": [
        "# Extracting the feature data from the DataFrame 'synth_data'.\n",
        "X=synth_data.iloc[:,:-1].values\n",
        "\n",
        "# Extracting the target or label data from the DataFrame 'synth_data'.\n",
        "Y=synth_data.iloc[:,-1].values\n"
      ],
      "metadata": {
        "id": "10UrRpHohaBq"
      },
      "execution_count": 425,
      "outputs": []
    },
    {
      "cell_type": "code",
      "source": [
        "# Defining a custom train_test_split function\n",
        "def custom_train_test_split(X, Y, test_size=0.25, random_state=None, shuffle=True):\n",
        "    if random_state is not None:\n",
        "        np.random.seed(random_state)\n",
        "\n",
        "    # Determining the number of samples for our test set\n",
        "    num_test_samples = int(len(X) * test_size)\n",
        "\n",
        "    if shuffle:\n",
        "        # Shuffling the data randomly\n",
        "        indices = np.arange(len(X))\n",
        "        np.random.shuffle(indices)\n",
        "        X = X[indices]\n",
        "        Y = Y[indices]\n",
        "\n",
        "    # Spliting the data into training and test sets\n",
        "    X_train, X_test = X[:-num_test_samples], X[-num_test_samples:]\n",
        "    y_train, y_test = Y[:-num_test_samples], Y[-num_test_samples:]\n",
        "\n",
        "    return X_train, X_test, y_train, y_test\n",
        "\n",
        "# Spliting the data using custom function\n",
        "X_train, X_test, y_train, y_test = custom_train_test_split(X, Y, random_state=2120, test_size=0.25, shuffle=True)\n"
      ],
      "metadata": {
        "id": "KsYIppPE1v1-"
      },
      "execution_count": 426,
      "outputs": []
    },
    {
      "cell_type": "code",
      "source": [
        "def normalize(array):\n",
        "    # Calculating the mean and standard deviation along each feature\n",
        "    mean = np.mean(array, axis=0)\n",
        "    std = np.std(array, axis=0)\n",
        "\n",
        "    # Normalizing the data by subtracting the mean and dividing by the standard deviation\n",
        "    normalized_data = (array - mean) / std\n",
        "\n",
        "    return normalized_data\n"
      ],
      "metadata": {
        "id": "oAd4cNwERr90"
      },
      "execution_count": 427,
      "outputs": []
    },
    {
      "cell_type": "code",
      "source": [
        "# Normalizing the training data (X_train)\n",
        "X_train = normalize(X_train)\n",
        "\n",
        "# Normalizing the test data (X_test)\n",
        "X_test = normalize(X_test)\n"
      ],
      "metadata": {
        "id": "pcRb4y1PPAKs"
      },
      "execution_count": 428,
      "outputs": []
    },
    {
      "cell_type": "markdown",
      "source": [
        "**A correlation matrix is a table that shows the strength and direction of linear relationships between variables in a dataset. It uses values ranging from -1 (perfect negative correlation) to 1 (perfect positive correlation) to indicate the degree of association, with 0 indicating no linear relationship. Correlation matrices are valuable tools in data analysis for understanding connections between variables.**"
      ],
      "metadata": {
        "id": "kS-kDKapSFLH"
      }
    },
    {
      "cell_type": "code",
      "source": [
        "\n",
        "corrmat = synth_data.corr()\n",
        "\n",
        "plt.figure(figsize=(13, 6))\n",
        "sns.heatmap(corrmat, vmax = 1, annot = True, linewidths = .5)\n",
        "plt.xticks(rotation=30, horizontalalignment='right')\n",
        "plt.show()"
      ],
      "metadata": {
        "colab": {
          "base_uri": "https://localhost:8080/",
          "height": 631
        },
        "id": "AUcxw9UJR8rt",
        "outputId": "7c6754ea-6e50-44cb-dbe1-04a880c02801"
      },
      "execution_count": 539,
      "outputs": [
        {
          "output_type": "display_data",
          "data": {
            "text/plain": [
              "<Figure size 1300x600 with 2 Axes>"
            ],
            "image/png": "[encoded data removed]"
          },
          "metadata": {}
        }
      ]
    },
    {
      "cell_type": "code",
      "source": [
        "import seaborn as sns\n",
        "import matplotlib.pyplot as plt"
      ],
      "metadata": {
        "id": "pOTTREH76w5_"
      },
      "execution_count": 452,
      "outputs": []
    },
    {
      "cell_type": "markdown",
      "source": [
        "# ***3. Comparison of Stochastic Gradient Descent and Batch Gradient Descent using Linear Regression***\n",
        "\n",
        "## **_Stochastic Gradient Descent_**"
      ],
      "metadata": {
        "id": "y81SQxOrRso5"
      }
    },
    {
      "cell_type": "markdown",
      "source": [
        "### Batch Gradient Descent vs Stochastic Gradient Descent\n",
        "Stochastic Gradient Descent and Batch Gradient Descent differ in their approach to updating model parameters during training. In Stochastic Gradient Descent, the parameters are updated after processing each individual data point, introducing randomness and rapid updates. This can lead to faster convergence but with more erratic steps. In contrast, Batch Gradient Descent updates parameters once per batch, providing a more stable but computationally intensive process as it requires storing and processing the entire batch. The choice between them depends on the trade-off between computational efficiency and convergence stability in training machine learning models."
      ],
      "metadata": {
        "id": "bzBI310ANYw8"
      }
    },
    {
      "cell_type": "code",
      "source": [
        "# Assuming you have already defined X_train, y_train\n",
        "\n",
        "# Initializing weights, learning rate, number of epochs, and bias\n",
        "wS = np.zeros(len(X_train[0]), dtype=float)\n",
        "Slrate = 1\n",
        "Sepoch = 1000\n",
        "bS = 0.0\n",
        "\n",
        "# Array to store the cost at each epoch\n",
        "Scost = np.zeros(Sepoch)\n",
        "\n",
        "# Training loop\n",
        "for i in range(Sepoch):\n",
        "    # Initializing weight and bias differences, and cost\n",
        "    bSdiff = 0\n",
        "    wSdiff = np.zeros(len(X_train[0]), dtype=float)\n",
        "    epoch_cost = 0\n",
        "\n",
        "    # Randomly selecting a training sample\n",
        "    j = np.random.randint(0, len(X_train))\n",
        "\n",
        "    # Calculating the bias difference\n",
        "    bSdiff = bSdiff + np.dot(wS, X_train[j]) + bS - y_train[j]\n",
        "\n",
        "    # Calculating weight differences for each feature\n",
        "    for k in range(len(X_train[j])):\n",
        "        wSdiff[k] = wSdiff[k] + (np.dot(wS, X_train[j]) + bS - y_train[j]) * X_train[j][k]\n",
        "\n",
        "    # Calculating the cost using the mean squared error\n",
        "    for l in range(len(X_train)):\n",
        "      epoch_cost = epoch_cost + (np.dot(wS, X_train[l]) + bS - y_train[l]) ** 2\n",
        "\n",
        "    # Updating the bias\n",
        "    bS = bS - Slrate * bSdiff / len(X_train)\n",
        "\n",
        "    # Updating the weights\n",
        "    for l in range(len(X_train[j])):\n",
        "        wS[l] = wS[l] - (Slrate / len(X_train) * wSdiff[l])\n",
        "\n",
        "    epoch_cost=epoch_cost/len(X_train)\n",
        "\n",
        "    # Store the cost of this epoch in the Scost array\n",
        "    Scost[i] = epoch_cost\n",
        "\n",
        "    # Printing the epoch and cost every 50 epochs\n",
        "    if i % 50 == 0:\n",
        "        print(f\"Epoch {i}: Cost = {epoch_cost}\")\n",
        "\n",
        "\n",
        "\n",
        "\n",
        "\n"
      ],
      "metadata": {
        "id": "V3GZdeQQ8GfA",
        "colab": {
          "base_uri": "https://localhost:8080/"
        },
        "outputId": "4e2fc887-f3f8-47c3-ba11-b2642238b1dc"
      },
      "execution_count": 525,
      "outputs": [
        {
          "output_type": "stream",
          "name": "stdout",
          "text": [
            "Epoch 0: Cost = 0.3333333333333333\n",
            "Epoch 50: Cost = 0.2959310080372287\n",
            "Epoch 100: Cost = 0.2684190116163565\n",
            "Epoch 150: Cost = 0.2393939766159236\n",
            "Epoch 200: Cost = 0.22785400526992441\n",
            "Epoch 250: Cost = 0.20629912286529023\n",
            "Epoch 300: Cost = 0.20217337494841933\n",
            "Epoch 350: Cost = 0.1941607710960803\n",
            "Epoch 400: Cost = 0.19081278718041475\n",
            "Epoch 450: Cost = 0.18916896985895254\n",
            "Epoch 500: Cost = 0.18769504925707312\n",
            "Epoch 550: Cost = 0.18575929032245897\n",
            "Epoch 600: Cost = 0.18530777208707194\n",
            "Epoch 650: Cost = 0.18444998073184263\n",
            "Epoch 700: Cost = 0.18415244917714244\n",
            "Epoch 750: Cost = 0.18268385133920728\n",
            "Epoch 800: Cost = 0.18238791343800795\n",
            "Epoch 850: Cost = 0.18047880899028182\n",
            "Epoch 900: Cost = 0.17853487624357106\n",
            "Epoch 950: Cost = 0.17772897116599234\n"
          ]
        }
      ]
    },
    {
      "cell_type": "code",
      "source": [
        "# Printing the bias term\n",
        "print(f\"Bias: {bS}\")\n",
        "\n",
        "# Printing the weight vector\n",
        "print(f\"Weight vector: {wS}\")\n"
      ],
      "metadata": {
        "id": "2bfiZlzfuEww",
        "colab": {
          "base_uri": "https://localhost:8080/"
        },
        "outputId": "0f39d633-2938-48f5-a226-a4a73f01ae3a"
      },
      "execution_count": 508,
      "outputs": [
        {
          "output_type": "stream",
          "name": "stdout",
          "text": [
            "Bias: 0.008136174090026552\n",
            "Weight vector: [0. 0. 0. 0. 0. 0. 0. 0.]\n"
          ]
        }
      ]
    },
    {
      "cell_type": "code",
      "source": [
        "# Initializing a counter for correct predictions\n",
        "correct = 0\n",
        "\n",
        "# Iterating through the test data\n",
        "for i in range(len(X_test)):\n",
        "    # Calculating the predicted value using trained weights and bias\n",
        "    y_hat = np.dot(wS, X_test[i]) + bS\n",
        "\n",
        "    # Assigning a binary class label based on the predicted value\n",
        "    if y_hat >= 0.5:\n",
        "        y = 1\n",
        "    else:\n",
        "        y = 0\n",
        "\n",
        "    # Checking if the predicted class matches the true class (y_test)\n",
        "    if y == y_test[i]:\n",
        "        correct = correct + 1\n",
        "\n",
        "# Calculating the accuracy by finding ratio of correct predictions to total predictions\n",
        "accuracy = correct / len(X_test)\n",
        "\n",
        "# Printing the accuracy as a percentage\n",
        "print(f\"Accuracy: {accuracy*100}%\")\n"
      ],
      "metadata": {
        "id": "j6m0ogtTWSmf",
        "colab": {
          "base_uri": "https://localhost:8080/"
        },
        "outputId": "6905a4f9-a81d-4780-c9db-7ea1ce46aaf7"
      },
      "execution_count": 509,
      "outputs": [
        {
          "output_type": "stream",
          "name": "stdout",
          "text": [
            "Accuracy: 68.0%\n"
          ]
        }
      ]
    },
    {
      "cell_type": "markdown",
      "source": [
        "## **_Batch Gradient Descent_**"
      ],
      "metadata": {
        "id": "HqIC34nWR-n7"
      }
    },
    {
      "cell_type": "code",
      "source": [
        "# Initializing weights, learning rate, number of epochs, and bias\n",
        "w = np.zeros(len(X_train[0]), dtype=float)\n",
        "lrate = 0.01\n",
        "epoch = 1000\n",
        "b = 0.0\n",
        "\n",
        "# Array to store the cost at each epoch\n",
        "batch_cost = []\n",
        "\n",
        "# Training loop\n",
        "for i in range(epoch):\n",
        "    # Initializing the weight and bias differences, and cost\n",
        "    bdiff = 0\n",
        "    wdiff = np.zeros(len(X_train[0]), dtype=float)\n",
        "    cost = 0\n",
        "\n",
        "    # Iterating over the training samples\n",
        "    for j in range(len(X_train)):\n",
        "        # Calculating the bias difference\n",
        "        bdiff = bdiff + np.dot(w, X_train[j]) + b - y_train[j]\n",
        "\n",
        "        # Calculating the weight differences for each feature\n",
        "        for k in range(len(X_train[j])):\n",
        "            wdiff[k] = wdiff[k] + (np.dot(w, X_train[j]) + b - y_train[j]) * X_train[j][k]\n",
        "\n",
        "        # Calculating the cost using mean squared error\n",
        "        cost = cost + (np.dot(w, X_train[j]) + b - y_train[j]) ** 2 / len(X_train)\n",
        "\n",
        "    # Updating the bias\n",
        "    b = b - lrate * bdiff / len(X_train)\n",
        "\n",
        "    # Updating the weights\n",
        "    for l in range(len(X_train[0])):\n",
        "        w[l] = w[l] - (lrate / len(X_train) * wdiff[l])\n",
        "\n",
        "    # Store the cost of this epoch in the cost_history array\n",
        "    batch_cost.append(cost)\n",
        "\n",
        "    # Printing the epoch and cost every 50 epochs\n",
        "    if i % 50 == 0:\n",
        "        print(f\"Epoch {i}: Cost = {cost}\")\n"
      ],
      "metadata": {
        "id": "-hA5FysjSBzj",
        "colab": {
          "base_uri": "https://localhost:8080/"
        },
        "outputId": "1d4a1ec9-ed1f-40c1-d780-4e62a92d2943"
      },
      "execution_count": 510,
      "outputs": [
        {
          "output_type": "stream",
          "name": "stdout",
          "text": [
            "Epoch 0: Cost = 0.3333333333333333\n",
            "Epoch 50: Cost = 0.2310303081773653\n",
            "Epoch 100: Cost = 0.1961938272643227\n",
            "Epoch 150: Cost = 0.18330816435258468\n",
            "Epoch 200: Cost = 0.17828647809203377\n",
            "Epoch 250: Cost = 0.17622920484603752\n",
            "Epoch 300: Cost = 0.17533375042200502\n",
            "Epoch 350: Cost = 0.17491401818071955\n",
            "Epoch 400: Cost = 0.17470039655591904\n",
            "Epoch 450: Cost = 0.17458261492931684\n",
            "Epoch 500: Cost = 0.17451310365257247\n",
            "Epoch 550: Cost = 0.17446990725362474\n",
            "Epoch 600: Cost = 0.17444207750204285\n",
            "Epoch 650: Cost = 0.17442371206815557\n",
            "Epoch 700: Cost = 0.1744114011791732\n",
            "Epoch 750: Cost = 0.1744030642582255\n",
            "Epoch 800: Cost = 0.17439738030075475\n",
            "Epoch 850: Cost = 0.17439348731117138\n",
            "Epoch 900: Cost = 0.17439081240796506\n",
            "Epoch 950: Cost = 0.1743889701775277\n"
          ]
        }
      ]
    },
    {
      "cell_type": "code",
      "source": [
        "# Printing the bias term\n",
        "print(f\"Bias: {b}\")\n",
        "\n",
        "# Printing the weight vector\n",
        "print(f\"Weight vector: {w}\")\n",
        "\n"
      ],
      "metadata": {
        "id": "xNXycGPNq3xZ",
        "colab": {
          "base_uri": "https://localhost:8080/"
        },
        "outputId": "0fc886cd-d11b-44e8-b6ba-9fee8c538a67"
      },
      "execution_count": 511,
      "outputs": [
        {
          "output_type": "stream",
          "name": "stdout",
          "text": [
            "Bias: 0.33331894291752984\n",
            "Weight vector: [ 0.08  0.17 -0.05  0.01 -0.03  0.1   0.02 -0.03]\n"
          ]
        }
      ]
    },
    {
      "cell_type": "code",
      "source": [
        "# Initializing a counter for the number of correct predictions\n",
        "correct = 0\n",
        "\n",
        "# Iterating through the test data\n",
        "for i in range(len(X_test)):\n",
        "    # Calculating the predicted value using the trained weights and bias\n",
        "    y_hat = np.dot(w, X_test[i]) + b\n",
        "\n",
        "    # Assigning a binary class label based on the predicted value\n",
        "    if y_hat >= 0.5:\n",
        "        y = 1\n",
        "    else:\n",
        "        y = 0\n",
        "\n",
        "    # Checking if the predicted class matches the actual class (y_test)\n",
        "    if y == y_test[i]:\n",
        "        correct = correct + 1\n",
        "\n",
        "# Calculating the accuracy by finding the ratio of correct predictions to total predictions\n",
        "accuracy = correct / len(X_test)\n",
        "\n",
        "# Printing the accuracy as a percentage\n",
        "print(f\"Accuracy: {accuracy*100}%\")\n",
        "\n"
      ],
      "metadata": {
        "id": "7e5KHpR9QB75",
        "colab": {
          "base_uri": "https://localhost:8080/"
        },
        "outputId": "3cdcbe99-d970-4a54-cade-053a8d7c5bd6"
      },
      "execution_count": 512,
      "outputs": [
        {
          "output_type": "stream",
          "name": "stdout",
          "text": [
            "Accuracy: 76.0%\n"
          ]
        }
      ]
    },
    {
      "cell_type": "markdown",
      "source": [
        "## **_Insights drawn (plots, markdown explanations)_**"
      ],
      "metadata": {
        "id": "8g7NxS5sSCRv"
      }
    },
    {
      "cell_type": "markdown",
      "source": [
        "STOCHASTIC GRADIENT DESCENT"
      ],
      "metadata": {
        "id": "J4qEn_nXDl7H"
      }
    },
    {
      "cell_type": "code",
      "source": [
        "#Plotting \"Cost vs Epochs\" for Stochastic Gradient Descent\n",
        "plt.plot(Scost)\n",
        "plt.ylabel(\"Mean Squared Error Cost\")\n",
        "plt.xlabel(\"Epochs\")\n",
        "plt.title(\"Cost vs Epochs for Stochastic Gradient Descent\")\n",
        "plt.show()"
      ],
      "metadata": {
        "id": "Pw63z3amSSo_",
        "colab": {
          "base_uri": "https://localhost:8080/",
          "height": 480
        },
        "outputId": "edc618c7-1f8e-4967-8694-f2ecb7aae539"
      },
      "execution_count": 526,
      "outputs": [
        {
          "output_type": "display_data",
          "data": {
            "text/plain": [
              "<Figure size 640x480 with 1 Axes>"
            ],
            "image/png": "[encoded data removed]"
          },
          "metadata": {}
        }
      ]
    },
    {
      "cell_type": "markdown",
      "source": [
        "BATCH GRADIENT DESCENT"
      ],
      "metadata": {
        "id": "uAXm553mJf8m"
      }
    },
    {
      "cell_type": "code",
      "source": [
        "#Plotting \"Cost vs Epochs\" for Batch Gradient Descent\n",
        "plt.plot(batch_cost)\n",
        "plt.ylabel(\"Mean Squared Error Cost\")\n",
        "plt.xlabel(\"Epochs\")\n",
        "plt.title(\"Cost vs Epochs for Batch Gradient Descent\")\n",
        "plt.show()"
      ],
      "metadata": {
        "colab": {
          "base_uri": "https://localhost:8080/",
          "height": 480
        },
        "id": "JvplWI4IJkVT",
        "outputId": "588591b4-2607-4cd4-a9c7-a390ba5c5054"
      },
      "execution_count": 500,
      "outputs": [
        {
          "output_type": "display_data",
          "data": {
            "text/plain": [
              "<Figure size 640x480 with 1 Axes>"
            ],
            "image/png": "[encoded data removed]"
          },
          "metadata": {}
        }
      ]
    },
    {
      "cell_type": "markdown",
      "source": [
        "# **_4. Comparison of Lasso and Ridge Regression using Polynomial Regression_**\n",
        "\n"
      ],
      "metadata": {
        "id": "2p-mPVFCSe9V"
      }
    },
    {
      "cell_type": "markdown",
      "source": [
        "### Lasso Regression vs Ridge Regression\n",
        "Lasso Regression and Ridge Regression are both regularization techniques for linear regression, but they differ in how they apply regularization. Lasso adds a penalty term based on the absolute values of coefficients, encouraging sparsity and feature selection, making it suitable when you want to identify and emphasize important predictors. Ridge adds a penalty term based on the squared values of coefficients, preventing coefficients from becoming too large and reducing multicollinearity. It doesn't force coefficients to zero, making it appropriate when all features are potentially relevant. The choice between them depends on whether you prioritize feature selection (Lasso) or multicollinearity reduction (Ridge)."
      ],
      "metadata": {
        "id": "mdSVsowTNguT"
      }
    },
    {
      "cell_type": "markdown",
      "source": [
        "## **_Lasso Regression_**"
      ],
      "metadata": {
        "id": "vOMuaNilQIIw"
      }
    },
    {
      "cell_type": "code",
      "source": [
        "degree = 3\n",
        "features = len(X_train[0])\n",
        "rows = len(X_train)\n",
        "Lrate = 0.01\n",
        "Llamda = 0.01\n",
        "epochs = 500\n"
      ],
      "metadata": {
        "id": "43fKIKPA4qeC"
      },
      "execution_count": 529,
      "outputs": []
    },
    {
      "cell_type": "code",
      "source": [
        "from itertools import combinations\n",
        "\n",
        "def poly(X_train, degree):\n",
        "    k = len(X_train)  # Number of samples in the input matrix\n",
        "    matrix = X_train  # Input matrix\n",
        "    max_power = degree  # Degree of polynomial expansion\n",
        "    expanded_matrix = []  # List to store the expanded feature vectors\n",
        "\n",
        "    for row_matrix in matrix:\n",
        "        expanded_terms = []  # List to store the expanded terms for each sample\n",
        "        expanded_terms.extend(row_matrix)  # Adding original features to the expanded terms\n",
        "\n",
        "        if max_power > 1:\n",
        "            for power in range(2, max_power + 1):\n",
        "                for xi in row_matrix:\n",
        "                    expanded_terms.append(xi ** power)  # Adding higher-order polynomial terms\n",
        "\n",
        "            for i, j in combinations(range(len(row_matrix)), 2):\n",
        "                expanded_terms.append(row_matrix[i] * row_matrix[j])  # Cross-product terms\n",
        "\n",
        "        expanded_matrix.append(expanded_terms)  # Adding the expanded terms for each sample\n",
        "\n",
        "    expanded_matrix = np.array(expanded_matrix)  # Convert the list to a NumPy array\n",
        "    return expanded_matrix\n",
        "\n",
        "# Call the function to perform polynomial feature expansion\n",
        "X_poly = poly(X_train, degree)\n"
      ],
      "metadata": {
        "id": "LTjoKWdNSpcE"
      },
      "execution_count": 530,
      "outputs": []
    },
    {
      "cell_type": "code",
      "source": [
        "# Initializing the weight vector, bias, and setting initial cost to 0\n",
        "wL = np.zeros(len(X_poly[0]), dtype=float)\n",
        "bL = 0\n",
        "cost = 0\n",
        "poly1_cost=[]\n",
        "# Training loop\n",
        "for i in range(epochs):\n",
        "    # Initializing the weight and bias differences\n",
        "    wLdiff = np.zeros(len(X_poly[0]), dtype=float)\n",
        "    bLdiff = 0\n",
        "\n",
        "    # Initializing the cost for this epoch\n",
        "    epoch_cost = 0\n",
        "\n",
        "    # Iterating over the training samples\n",
        "    for j in range(rows):\n",
        "        # Calculating the cost for this sample\n",
        "        sample_cost = (np.dot(X_poly[j], wL) + bL - y_train[j]) ** 2\n",
        "        epoch_cost += sample_cost\n",
        "\n",
        "        # Calculating the bias difference\n",
        "        bLdiff = bLdiff + (np.dot(X_poly[j], wL) + bL - y_train[j])\n",
        "\n",
        "        # Calculating the weight differences for each feature\n",
        "        for k in range(len(X_poly[0])):\n",
        "            wLdiff[k] = wLdiff[k] + (np.dot(X_poly[j], wL) + bL - y_train[j]) * X_poly[j][k]\n",
        "\n",
        "    # Updating the bias\n",
        "    bL = bL - Lrate * bLdiff / rows\n",
        "\n",
        "    # Updating the weights with L2 regularization term (Llamda)\n",
        "    for k in range(len(X_poly[0])):\n",
        "        wL[k] = wL[k] - Lrate * (1 / rows * wLdiff[k] + Llamda * wL[k])\n",
        "\n",
        "    # Adding the L2 regularization term to the cost\n",
        "    cost = epoch_cost + (Llamda / rows) * np.dot(wL, np.ones(len(X_poly[0]), dtype=float))\n",
        "    poly1_cost.append(cost)\n",
        "\n",
        "    # Printing the epoch and cost every 25 epochs\n",
        "    if i % 25 == 0:\n",
        "        print(f\"Epoch {i}: Cost = {cost}\")\n"
      ],
      "metadata": {
        "colab": {
          "base_uri": "https://localhost:8080/"
        },
        "id": "zMcrhSa837-g",
        "outputId": "8ca90c9a-0c49-4074-cf97-1ff7f7fc74dc"
      },
      "execution_count": 531,
      "outputs": [
        {
          "output_type": "stream",
          "name": "stdout",
          "text": [
            "Epoch 0: Cost = 125.00000197460068\n",
            "Epoch 25: Cost = 72.48336156945255\n",
            "Epoch 50: Cost = 68.85919237070684\n",
            "Epoch 75: Cost = 66.68600796107027\n",
            "Epoch 100: Cost = 65.11489020400725\n",
            "Epoch 125: Cost = 63.91689214619815\n",
            "Epoch 150: Cost = 62.97699660235963\n",
            "Epoch 175: Cost = 62.225416518733226\n",
            "Epoch 200: Cost = 61.61564552420178\n",
            "Epoch 225: Cost = 61.11501242161162\n",
            "Epoch 250: Cost = 60.69977316110743\n",
            "Epoch 275: Cost = 60.35224609914651\n",
            "Epoch 300: Cost = 60.059015729903585\n",
            "Epoch 325: Cost = 59.809750303222344\n",
            "Epoch 350: Cost = 59.59639465669783\n",
            "Epoch 375: Cost = 59.41260301511956\n",
            "Epoch 400: Cost = 59.253330932395244\n",
            "Epoch 425: Cost = 59.11453602513448\n",
            "Epoch 450: Cost = 58.992955008024765\n",
            "Epoch 475: Cost = 58.88593540977261\n"
          ]
        }
      ]
    },
    {
      "cell_type": "code",
      "source": [
        "# Printing the bias term\n",
        "print(f\"Bias: {bL}\")\n",
        "\n",
        "# Printing the weight vector\n",
        "print(f\"Weight vector: {wL}\")\n"
      ],
      "metadata": {
        "colab": {
          "base_uri": "https://localhost:8080/"
        },
        "id": "zhIE79Wn3__B",
        "outputId": "7be0f772-4233-4c0b-c70a-3ed4dc2dc4d0"
      },
      "execution_count": 532,
      "outputs": [
        {
          "output_type": "stream",
          "name": "stdout",
          "text": [
            "Bias: 0.11993458538663879\n",
            "Weight vector: [ 0.07  0.13 -0.05  0.04 -0.02  0.13  0.01  0.02  0.08  0.    0.02  0.01\n",
            "  0.07  0.03  0.01  0.03 -0.01  0.01  0.   -0.02 -0.02 -0.01 -0.   -0.02\n",
            "  0.02 -0.02  0.04  0.01  0.01  0.02 -0.03 -0.01  0.02 -0.01  0.03 -0.02\n",
            " -0.    0.02 -0.01 -0.03 -0.01  0.03  0.04  0.01 -0.01  0.01 -0.03 -0.03\n",
            " -0.02  0.03 -0.01  0.  ]\n"
          ]
        }
      ]
    },
    {
      "cell_type": "code",
      "source": [
        "# Initializing a counter for correct predictions\n",
        "correct = 0\n",
        "\n",
        "# Iterating through the test data\n",
        "for i in range(len(X_test)):\n",
        "    # Performing polynomial feature expansion on the test data\n",
        "    Xtest = poly(X_test, degree)\n",
        "\n",
        "    # Calculating the predicted value using the trained weights and bias\n",
        "    y_hat = np.dot(wL, Xtest[i]) + bL\n",
        "\n",
        "    # Assigning a binary class label based on the predicted value\n",
        "    if y_hat >= 0.5:\n",
        "        y = 1\n",
        "    else:\n",
        "        y = 0\n",
        "\n",
        "    # Checking if the predicted class matches the actual class (y_test)\n",
        "    if y == y_test[i]:\n",
        "        correct = correct + 1\n",
        "\n",
        "# Calculating the accuracy by taking ratio of correct predictions to total predictions\n",
        "accuracy = correct / len(X_test)\n",
        "\n",
        "# Printing the accuracy as a percentage\n",
        "print(f\"Accuracy: {accuracy*100}%\")\n",
        "\n"
      ],
      "metadata": {
        "colab": {
          "base_uri": "https://localhost:8080/"
        },
        "id": "UWjRuFC34DOr",
        "outputId": "27c12213-8a3c-4429-b3d8-fd18ea2b7a9a"
      },
      "execution_count": 533,
      "outputs": [
        {
          "output_type": "stream",
          "name": "stdout",
          "text": [
            "Accuracy: 74.4%\n"
          ]
        }
      ]
    },
    {
      "cell_type": "markdown",
      "source": [
        "## **_Ridge Regression_**"
      ],
      "metadata": {
        "id": "Dr-p_RtzSqUF"
      }
    },
    {
      "cell_type": "code",
      "source": [
        "degree = 3\n",
        "features = len(X_train[0])\n",
        "rows = len(X_train)\n",
        "Rlrate = 0.01\n",
        "Rlamda = 0.01\n",
        "epochs = 500"
      ],
      "metadata": {
        "id": "nTc3ypo7ANLx"
      },
      "execution_count": 534,
      "outputs": []
    },
    {
      "cell_type": "code",
      "source": [
        "from itertools import combinations\n",
        "\n",
        "def poly(X, degree):\n",
        "    k = len(X)  # Number of samples in the input matrix\n",
        "    matrix = X  # Input matrix\n",
        "    max_power = degree  # Degree of polynomial expansion\n",
        "    expanded_matrix = []  # List to store the expanded feature vectors\n",
        "\n",
        "    for row_matrix in matrix:\n",
        "        expanded_terms = []  # List to store the expanded terms for each sample\n",
        "        expanded_terms.extend(row_matrix)  # Adding original features to the expanded terms\n",
        "\n",
        "        if max_power > 1:\n",
        "            for power in range(2, max_power + 1):\n",
        "                for xi in row_matrix:\n",
        "                    expanded_terms.append(xi ** power)  # Adding higher-order polynomial terms\n",
        "\n",
        "            for i, j in combinations(range(len(row_matrix)), 2):\n",
        "                expanded_terms.append(row_matrix[i] * row_matrix[j])  # Cross-product terms\n",
        "\n",
        "        expanded_matrix.append(expanded_terms)  # Adding the expanded terms for each sample\n",
        "\n",
        "    expanded_matrix = np.array(expanded_matrix)  # Converting the list to a NumPy array\n",
        "    return expanded_matrix\n"
      ],
      "metadata": {
        "id": "o95NXwynn5an"
      },
      "execution_count": 535,
      "outputs": []
    },
    {
      "cell_type": "code",
      "source": [
        "# Initializing the weight vector, bias, and setting initial cost to 0\n",
        "wR = np.zeros(len(X_poly[0]), dtype=float)\n",
        "bR = 0\n",
        "cost = 0\n",
        "poly2_cost=[]\n",
        "# Training loop\n",
        "for i in range(epochs):\n",
        "    # Initializing the weight and bias differences\n",
        "    wRdiff = np.zeros(len(X_poly[0]), dtype=float)\n",
        "    bRdiff = 0\n",
        "\n",
        "    # Initializing the cost for this epoch\n",
        "    epoch_cost = 0\n",
        "\n",
        "    # Iterating over the training samples\n",
        "    for j in range(rows):\n",
        "        # Calculating the cost for this sample\n",
        "        sample_cost = (np.dot(X_poly[j], wR) + bR - y_train[j]) ** 2\n",
        "        epoch_cost += sample_cost\n",
        "\n",
        "        # Calculating the bias difference\n",
        "        bRdiff = bRdiff + (np.dot(X_poly[j], wR) + bR - y_train[j])\n",
        "\n",
        "        # Calculating the weight differences for each feature\n",
        "        for k in range(len(X_poly[0])):\n",
        "            wRdiff[k] = wRdiff[k] + (np.dot(X_poly[j], wR) + bR - y_train[j]) * X_poly[j][k]\n",
        "\n",
        "    # Updating the bias\n",
        "    bR = bR - Rlrate * bRdiff / rows\n",
        "\n",
        "    # Updating the weights with L2 regularization term (Rlamda)\n",
        "    for k in range(len(X_poly[0])):\n",
        "        wR[k] = wR[k] - Rlrate * (1 / rows * wRdiff[k] + Rlamda * wR[k])\n",
        "\n",
        "    # Adding the L2 regularization term to the cost\n",
        "    cost = epoch_cost + (Rlamda / rows) * np.dot(wR, wR)\n",
        "    poly2_cost.append(cost)\n",
        "    # Printing the epoch and cost every 50 epochs\n",
        "    if i % 50 == 0:\n",
        "        print(f\"Epoch {i}: Cost = {cost}\")\n",
        "\n",
        "\n"
      ],
      "metadata": {
        "id": "DPBi46_Rj4v-",
        "colab": {
          "base_uri": "https://localhost:8080/"
        },
        "outputId": "8ac60cbc-3837-45ea-a213-65efa8cceeb9"
      },
      "execution_count": 536,
      "outputs": [
        {
          "output_type": "stream",
          "name": "stdout",
          "text": [
            "Epoch 0: Cost = 125.00000000552097\n",
            "Epoch 50: Cost = 68.85918191863931\n",
            "Epoch 100: Cost = 65.11487903164402\n",
            "Epoch 150: Cost = 62.97698490050478\n",
            "Epoch 200: Cost = 61.61563346169003\n",
            "Epoch 250: Cost = 60.6997608716205\n",
            "Epoch 300: Cost = 60.05900331166903\n",
            "Epoch 350: Cost = 59.596382180073356\n",
            "Epoch 400: Cost = 59.253318447132614\n",
            "Epoch 450: Cost = 58.99294254888807\n"
          ]
        }
      ]
    },
    {
      "cell_type": "code",
      "source": [
        "# Printing the bias term\n",
        "print(f\"Bias: {bR}\")\n",
        "\n",
        "# Printing the weight vector\n",
        "print(f\"Weight vector: {wR}\")\n"
      ],
      "metadata": {
        "id": "wZFbPeMixyDB",
        "colab": {
          "base_uri": "https://localhost:8080/"
        },
        "outputId": "2148edb6-3e36-45cc-f8ef-1133ddaf3ec0"
      },
      "execution_count": 443,
      "outputs": [
        {
          "output_type": "stream",
          "name": "stdout",
          "text": [
            "Bias: 0.1556511908777257\n",
            "Weight vector: [ 0.06  0.16 -0.06  0.01 -0.05  0.1   0.   -0.02  0.08  0.    0.02  0.\n",
            "  0.04  0.03  0.01 -0.01  0.03 -0.01  0.02  0.01 -0.    0.01 -0.05 -0.02\n",
            "  0.02 -0.02  0.03 -0.    0.01  0.02 -0.02 -0.03 -0.    0.04  0.03  0.\n",
            " -0.01  0.01 -0.02 -0.03 -0.01  0.02 -0.02 -0.01]\n"
          ]
        }
      ]
    },
    {
      "cell_type": "code",
      "source": [
        "# Initializing a counter for the correct predictions\n",
        "correct = 0\n",
        "\n",
        "# Iterating through the test data\n",
        "for i in range(len(X_test)):\n",
        "    # Performing the polynomial feature expansion on the test data\n",
        "    Xtest = poly(X_test, degree)\n",
        "\n",
        "    # Calculating the predicted value using the trained weights and bias\n",
        "    y_hat = np.dot(wR, Xtest[i]) + bR\n",
        "\n",
        "    # Assigning a binary class label based on the predicted value\n",
        "    if y_hat >= 0.5:\n",
        "        y = 1\n",
        "    else:\n",
        "        y = 0\n",
        "\n",
        "    # Checking if the predicted class matches the actual class (y_test)\n",
        "    if y == y_test[i]:\n",
        "        correct = correct + 1\n",
        "\n",
        "# Calculating the accuracy by taking the ratio of correct predictions to total predictions\n",
        "accuracy = correct / len(X_test)\n",
        "\n",
        "# Printing the accuracy as a percentage\n",
        "print(f\"Accuracy: {accuracy*100}%\")\n"
      ],
      "metadata": {
        "id": "37OnpJp0xYnr",
        "colab": {
          "base_uri": "https://localhost:8080/"
        },
        "outputId": "f63b45a2-134c-4bcf-da5f-9b926ed5de30"
      },
      "execution_count": 537,
      "outputs": [
        {
          "output_type": "stream",
          "name": "stdout",
          "text": [
            "Accuracy: 74.4%\n"
          ]
        }
      ]
    },
    {
      "cell_type": "markdown",
      "source": [
        "## **_Insights drawn (plots, markdown explanations)_**"
      ],
      "metadata": {
        "id": "FlUMAWsiSug9"
      }
    },
    {
      "cell_type": "markdown",
      "source": [
        "\n",
        "Stochastic Gradient Descent is often preferred when you have a larger number of epochs available because it can converge faster in terms of training time per epoch compared to Batch Gradient Descent (BGD).\n",
        "By updating the model's parameters more frequently with smaller mini-batches in each epoch, SGD can make quicker progress in terms of training time.\n",
        "Batch Gradient Descent (BGD) Provides Better Accuracy:\n",
        "\n",
        "Batch Gradient Descent typically provides more accurate updates because it computes gradients using the entire training dataset in each epoch.\n",
        "Since BGD uses the complete dataset for gradient calculations, it often converges to a more precise solution in terms of model accuracy."
      ],
      "metadata": {
        "id": "mXeSUL3sRBUN"
      }
    },
    {
      "cell_type": "markdown",
      "source": [
        "**LASSO REGRESSION**"
      ],
      "metadata": {
        "id": "Xlxft47MLdU0"
      }
    },
    {
      "cell_type": "code",
      "source": [
        "#Plotting \"Cost vs Epochs\" for L-1 Norm Polynomial Gradient Descent\n",
        "plt.plot(poly1_cost)\n",
        "plt.ylabel(\"Mean Squared Error Cost\")\n",
        "plt.xlabel(\"Epochs\")\n",
        "plt.title(\"Cost vs Epochs for L-1 Norm Polynomial Gradient Descent\")\n",
        "plt.show()"
      ],
      "metadata": {
        "colab": {
          "base_uri": "https://localhost:8080/",
          "height": 480
        },
        "id": "kZXOV5deLry5",
        "outputId": "f36dc8f2-f703-45d4-a9d1-3e40f17c1615"
      },
      "execution_count": 505,
      "outputs": [
        {
          "output_type": "display_data",
          "data": {
            "text/plain": [
              "<Figure size 640x480 with 1 Axes>"
            ],
            "image/png": "[encoded data removed]"
          },
          "metadata": {}
        }
      ]
    },
    {
      "cell_type": "markdown",
      "source": [
        "**RIDGE REGRESSION**"
      ],
      "metadata": {
        "id": "qUzLKO-iMV-n"
      }
    },
    {
      "cell_type": "code",
      "source": [
        "plt.plot(poly2_cost)\n",
        "plt.ylabel(\"Mean Squared Error Cost\")\n",
        "plt.xlabel(\"Epochs\")\n",
        "plt.title(\"Cost vs Epochs for L-2 Norm Polynomial Gradient Descent\")\n",
        "plt.show()"
      ],
      "metadata": {
        "colab": {
          "base_uri": "https://localhost:8080/",
          "height": 480
        },
        "id": "srVokbghMVBy",
        "outputId": "b3e7cc4f-4e5b-41e9-b426-3031e833dc2d"
      },
      "execution_count": 506,
      "outputs": [
        {
          "output_type": "display_data",
          "data": {
            "text/plain": [
              "<Figure size 640x480 with 1 Axes>"
            ],
            "image/png": "[encoded data removed]"
          },
          "metadata": {}
        }
      ]
    },
    {
      "cell_type": "markdown",
      "source": [
        "# **_5. Comparison of Logistic Regression and Least Squares Classification_**\n",
        "\n",
        "## **_Logistic Regression_**"
      ],
      "metadata": {
        "id": "jzSfpXtdS_q0"
      }
    },
    {
      "cell_type": "markdown",
      "source": [
        "Logistic Regression is a popular classification algorithm that models the probability of a binary outcome. It uses the sigmoid function to transform a linear combination of predictor variables into a value between 0 and 1, which represents the probability of belonging to the positive class. By training the model on labeled data, it learns the optimal coefficients for the linear equation. These coefficients define a decision boundary in the feature space, enabling the algorithm to classify new data points."
      ],
      "metadata": {
        "id": "0tYeejvaNl0c"
      }
    },
    {
      "cell_type": "code",
      "source": [
        "def sigmoid(theta, X, bias):\n",
        "    # Computing the dot product of the feature matrix X and the parameter vector theta,\n",
        "    # and adding the bias term.\n",
        "    z = np.dot(X, theta) + bias\n",
        "\n",
        "    # Computing the denominator of the sigmoid function.\n",
        "    denom = 1 + np.exp(-z)\n",
        "\n",
        "    # Calculating the sigmoid value.\n",
        "    val = 1 / denom\n",
        "\n",
        "    return val\n"
      ],
      "metadata": {
        "id": "ryN6rDSngkKE"
      },
      "execution_count": 445,
      "outputs": []
    },
    {
      "cell_type": "code",
      "source": [
        "# Initializing the weights, learning rate, number of epochs, and bias\n",
        "sig_weight = np.ones(len(X_train[0]), dtype=float)\n",
        "lrate = 0.1\n",
        "epoch = 400\n",
        "sig_bias = 0\n",
        "\n",
        "# Training loop\n",
        "for i in range(epoch):\n",
        "    # Initializing the weight and bias differences, and cost\n",
        "    weight_diff = np.zeros(len(X_train[0]), dtype=float)\n",
        "    bias_diff = 0\n",
        "    cost = 0\n",
        "\n",
        "    # Iterating over the training samples\n",
        "    for j in range(len(X_train)):\n",
        "        # Calculating the bias difference\n",
        "        bias_diff = bias_diff + (sigmoid(sig_weight, X_train[j], sig_bias) - y_train[j])\n",
        "\n",
        "        # Calculating the weight differences for each feature\n",
        "        for k in range(len(X_train[j])):\n",
        "            weight_diff[k] = weight_diff[k] + ((sigmoid(sig_weight, X_train[j], sig_bias) - y_train[j]) * X_train[j][k])\n",
        "\n",
        "        # Calculating the cost using the logistic loss function\n",
        "        cost = cost + (y_train[j] * np.log(sigmoid(sig_weight, X_train[j], sig_bias)) + (1 - y_train[j]) * np.log(1 - sigmoid(sig_weight, X_train[j], sig_bias)))\n",
        "\n",
        "    # Updating the weights and bias\n",
        "    for l in range(len(X_train[0])):\n",
        "        sig_weight[l] = sig_weight[l] - (lrate / len(X_train)) * weight_diff[l]\n",
        "\n",
        "    sig_bias = sig_bias - (lrate / len(X_train)) * bias_diff\n",
        "    cost = -1 / len(X_train) * cost\n",
        "\n",
        "    # Printing the epoch and cost every 50 epochs\n",
        "    if i % 50 == 0:\n",
        "        print(f\"Epoch {i}: Cost = {cost}\")\n",
        "\n",
        "\n"
      ],
      "metadata": {
        "id": "QE0r6BVPfjP0",
        "colab": {
          "base_uri": "https://localhost:8080/"
        },
        "outputId": "319d5868-bc1d-40da-fa09-7b979ea914ad"
      },
      "execution_count": 446,
      "outputs": [
        {
          "output_type": "stream",
          "name": "stdout",
          "text": [
            "Epoch 0: Cost = 1.2006794259761\n",
            "Epoch 50: Cost = 0.6635172194545774\n",
            "Epoch 100: Cost = 0.5300969686788048\n",
            "Epoch 150: Cost = 0.5181544897296483\n",
            "Epoch 200: Cost = 0.5161335601822089\n",
            "Epoch 250: Cost = 0.5153960647585962\n",
            "Epoch 300: Cost = 0.5150472121692706\n",
            "Epoch 350: Cost = 0.51486454661112\n"
          ]
        }
      ]
    },
    {
      "cell_type": "code",
      "source": [
        "# Printing the bias term\n",
        "print(f\"Bias: {sig_bias}\")\n",
        "\n",
        "# Printing the weight vector\n",
        "print(f\"Weight vector: {sig_weight}\")\n"
      ],
      "metadata": {
        "id": "tywfy7VlkHD4",
        "colab": {
          "base_uri": "https://localhost:8080/"
        },
        "outputId": "c9c5a786-460e-4cad-8c91-101f30a216da"
      },
      "execution_count": 447,
      "outputs": [
        {
          "output_type": "stream",
          "name": "stdout",
          "text": [
            "Bias: -0.9025749866178695\n",
            "Weight vector: [ 0.46  0.98 -0.32  0.06 -0.17  0.55  0.11 -0.17]\n"
          ]
        }
      ]
    },
    {
      "cell_type": "code",
      "source": [
        "# Initializing a counter for the correct predictions\n",
        "correct = 0\n",
        "\n",
        "# Iterating through the test data\n",
        "for i in range(len(X_test)):\n",
        "    # Calculating the predicted probability using the sigmoid function\n",
        "    y_hat = sigmoid(sig_weight, X_test[i], sig_bias)\n",
        "\n",
        "    # Assigning a binary class label based on the predicted probability\n",
        "    if y_hat > 0.5:\n",
        "        y = 1\n",
        "    else:\n",
        "        y = 0\n",
        "\n",
        "    # Checking if the predicted class matches the actual class (y_test)\n",
        "    if y == y_test[i]:\n",
        "        correct = correct + 1\n",
        "\n",
        "# Calculating the accuracy by taking the ratio of correct predictions to total predictions\n",
        "accuracy = correct / len(X_test)\n",
        "\n",
        "# Printing the accuracy as a percentage\n",
        "print(f\"Accuracy: {accuracy*100}%\")\n",
        "\n"
      ],
      "metadata": {
        "id": "xFkdH2lCjqUw",
        "colab": {
          "base_uri": "https://localhost:8080/"
        },
        "outputId": "6396fa8e-3d6d-4252-a505-594821042fb8"
      },
      "execution_count": 448,
      "outputs": [
        {
          "output_type": "stream",
          "name": "stdout",
          "text": [
            "Accuracy: 76.8%\n"
          ]
        }
      ]
    },
    {
      "cell_type": "markdown",
      "source": [
        "## **_Least Squares Classification_**"
      ],
      "metadata": {
        "id": "kdX2kQ-nTHXc"
      }
    },
    {
      "cell_type": "markdown",
      "source": [
        "Least Squares Classification is a linear classification technique that minimizes the sum of squared errors between predicted and actual class labels. It seeks to find a linear decision boundary in the feature space that separates two classes. Data points are assigned to the class that minimizes the squared distance from the decision boundary. While it's a simple and interpretable method, it's particularly suited for scenarios where minimizing squared errors is a primary concern, such as in certain regression problems, rather than classification tasks with complex or overlapping class boundaries."
      ],
      "metadata": {
        "id": "4QGE7R-uNqus"
      }
    },
    {
      "cell_type": "code",
      "source": [
        "# Function to augment a matrix by prepending a 1 to each row to account for bias\n",
        "def augMatrix(X):\n",
        "    n = len(X)\n",
        "    ones = np.ones((n, 1), dtype=float)\n",
        "    X_aug = np.concatenate((ones, X), axis=1, dtype=float)\n",
        "    return X_aug\n",
        "\n",
        "# Function to assign an input vector to a class based on the highest y value\n",
        "def predictClass(W, X):\n",
        "    y_pred = []\n",
        "    X_aug = augMatrix(X)\n",
        "    for x in X_aug:\n",
        "        y = W.T @ x.T\n",
        "        predClass = np.argmax(y)\n",
        "        y_pred.append(predClass)\n",
        "    return y_pred\n",
        "\n",
        "# Function to calculate the accuracy of our results\n",
        "def accuracy(y_pred, y_test):\n",
        "    correct = 0\n",
        "    total = len(y_pred)\n",
        "    for t in range(total):\n",
        "        if y_pred[t] == y_test[t]:\n",
        "            correct += 1\n",
        "    return correct / total\n"
      ],
      "metadata": {
        "id": "7eN5hJP42-yo"
      },
      "execution_count": 449,
      "outputs": []
    },
    {
      "cell_type": "code",
      "source": [
        "# Generating the target vector using one hot encoding for the training data\n",
        "T_train = pd.get_dummies(y_train).values\n",
        "\n",
        "# Generating the target vector using one hot encoding for the test data\n",
        "T_test = pd.get_dummies(y_test).values\n"
      ],
      "metadata": {
        "id": "3Uihlt2B2_SY"
      },
      "execution_count": 450,
      "outputs": []
    },
    {
      "cell_type": "code",
      "source": [
        "# Augmenting the training feature matrix\n",
        "X_train_aug = augMatrix(X_train)\n",
        "\n",
        "# Calculating the weights using least squares method\n",
        "W = (np.linalg.inv(X_train_aug.T @ X_train_aug)) @ (X_train_aug.T @ T_train)\n",
        "\n",
        "# Predicting the classes for the test data\n",
        "y = predictClass(W, X_test)\n",
        "\n",
        "# Printing the predicted classes\n",
        "print(y)\n",
        "\n",
        "# Calculating and printing the accuracy of the predictions\n",
        "acc = accuracy(y, y_test)\n",
        "print(f\"Accuracy: {acc*100}%\")\n"
      ],
      "metadata": {
        "id": "_7qJtwGnTMdb",
        "colab": {
          "base_uri": "https://localhost:8080/"
        },
        "outputId": "1d334132-6df9-4b39-c1f5-df6ad4975792"
      },
      "execution_count": 451,
      "outputs": [
        {
          "output_type": "stream",
          "name": "stdout",
          "text": [
            "[0, 0, 0, 0, 0, 0, 1, 0, 1, 1, 1, 0, 1, 1, 0, 0, 0, 0, 0, 0, 0, 0, 0, 0, 1, 0, 1, 0, 1, 0, 0, 0, 0, 0, 0, 1, 0, 0, 0, 0, 0, 0, 1, 0, 0, 0, 0, 0, 1, 0, 0, 0, 0, 0, 1, 0, 0, 0, 1, 0, 1, 0, 1, 0, 1, 0, 0, 0, 1, 0, 0, 0, 0, 0, 0, 1, 0, 0, 1, 0, 1, 0, 0, 1, 0, 1, 0, 0, 0, 1, 0, 0, 1, 0, 1, 1, 0, 1, 0, 0, 1, 0, 0, 0, 0, 1, 1, 0, 0, 1, 0, 0, 0, 0, 0, 0, 0, 0, 0, 1, 0, 0, 1, 0, 0]\n",
            "Accuracy: 76.0%\n"
          ]
        }
      ]
    },
    {
      "cell_type": "markdown",
      "source": [
        "## **_Insights drawn (plots, markdown explanations)_**"
      ],
      "metadata": {
        "id": "WSoa7KO1TM6-"
      }
    },
    {
      "cell_type": "markdown",
      "source": [
        "For our dataset, we get similar accuracy for logistic regression and least squares classification; this could be due to the linear relationship in the data. If the relationship between the predictors (independent variables) and the target variable (dependent variable) is approximately linear, both logistic regression and least squares classification might perform similarly. Least squares classification assumes a linear relationship between variables and tries to find the best-fitting linear regression line. If the data is approximately linear, both methods might provide similar results. The similarity in accuracy can also be due to the fact that we have a binary classification problem"
      ],
      "metadata": {
        "id": "WKRjgLyJUX7q"
      }
    },
    {
      "cell_type": "markdown",
      "source": [
        "# **_5. References_**\n",
        "\n",
        "1.   https://eli.thegreenplace.net/2016/linear-regression/\n",
        "2.   https://www.geeksforgeeks.org/difference-between-batch-gradient-descent-and-stochastic-gradient-descent/\n",
        "3. https://www.ibm.com/topics/logistic-regression#:~:text=Resources-,What%20is%20logistic%20regression%3F,given%20dataset%20of%20independent%20variables.\n",
        "4. https://towardsdatascience.com/derivation-of-least-squares-regressor-and-classifier-708be1358fe9\n",
        "\n"
      ],
      "metadata": {
        "id": "81SwQ_y4TaSc"
      }
    }
  ]
}